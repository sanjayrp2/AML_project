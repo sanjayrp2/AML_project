{
  "nbformat": 4,
  "nbformat_minor": 0,
  "metadata": {
    "colab": {
      "provenance": []
    },
    "kernelspec": {
      "name": "python3",
      "display_name": "Python 3"
    },
    "language_info": {
      "name": "python"
    }
  },
  "cells": [
    {
      "cell_type": "code",
      "execution_count": null,
      "metadata": {
        "id": "rpOxP6Z8AK_L"
      },
      "outputs": [],
      "source": [
        "import numpy as np\n",
        "import seaborn as sns\n",
        "from sklearn.ensemble import RandomForestClassifier\n",
        "import pandas as pd\n",
        "from sklearn.model_selection import train_test_split\n",
        "from sklearn.preprocessing import StandardScaler\n",
        "from sklearn.linear_model import LogisticRegression\n",
        "from sklearn.svm import LinearSVC, SVC\n",
        "from sklearn.ensemble import RandomForestClassifier\n",
        "import warnings\n",
        "from sklearn import metrics\n",
        "warnings.filterwarnings(action='ignore')\n",
        "import matplotlib.pyplot as matplot\n",
        "import seaborn as sns"
      ]
    },
    {
      "cell_type": "code",
      "source": [
        "data = pd.concat(map(pd.read_csv, ['/content/drive/MyDrive/dataset-of-60s.csv','/content/drive/MyDrive/dataset-of-70s.csv','/content/drive/MyDrive/dataset-of-80s.csv','/content/drive/MyDrive/dataset-of-90s.csv','/content/drive/MyDrive/dataset-of-00s.csv','/content/drive/MyDrive/dataset-of-10s.csv']))"
      ],
      "metadata": {
        "id": "R-xI9mhCAU07"
      },
      "execution_count": null,
      "outputs": []
    },
    {
      "cell_type": "code",
      "source": [
        "data.head"
      ],
      "metadata": {
        "colab": {
          "base_uri": "https://localhost:8080/"
        },
        "id": "EVmx3dZmAzT9",
        "outputId": "60346815-c24d-4fe1-9bc3-da558a783103"
      },
      "execution_count": null,
      "outputs": [
        {
          "output_type": "execute_result",
          "data": {
            "text/plain": [
              "<bound method NDFrame.head of                       track            artist  \\\n",
              "0     Jealous Kind Of Fella     Garland Green   \n",
              "1             Initials B.B.  Serge Gainsbourg   \n",
              "2              Melody Twist       Lord Melody   \n",
              "3             Mi Bomba Sonó        Celia Cruz   \n",
              "4               Uravu Solla       P. Susheela   \n",
              "...                     ...               ...   \n",
              "6393          Lotus Flowers             Yolta   \n",
              "6394      Calling My Spirit       Kodak Black   \n",
              "6395          Teenage Dream        Katy Perry   \n",
              "6396         Stormy Weather    Oscar Peterson   \n",
              "6397                   Dust       Hans Zimmer   \n",
              "\n",
              "                                       uri  danceability  energy  key  \\\n",
              "0     spotify:track:1dtKN6wwlolkM8XZy2y9C1         0.417   0.620    3   \n",
              "1     spotify:track:5hjsmSnUefdUqzsDogisiX         0.498   0.505    3   \n",
              "2     spotify:track:6uk8tI6pwxxdVTNlNOJeJh         0.657   0.649    5   \n",
              "3     spotify:track:7aNjMJ05FvUXACPWZ7yJmv         0.590   0.545    7   \n",
              "4     spotify:track:1rQ0clvgkzWr001POOPJWx         0.515   0.765   11   \n",
              "...                                    ...           ...     ...  ...   \n",
              "6393  spotify:track:4t1TljQWJ6ZuoSY67zVvBI         0.172   0.358    9   \n",
              "6394  spotify:track:2MShy1GSSgbmGUxADNIao5         0.910   0.366    1   \n",
              "6395  spotify:track:55qBw1900pZKfXJ6Q9A2Lc         0.719   0.804   10   \n",
              "6396  spotify:track:4o9npmYHrOF1rUxxTVH8h4         0.600   0.177    7   \n",
              "6397  spotify:track:2khIaVUkbMmDHB596lyMG3         0.121   0.123    4   \n",
              "\n",
              "      loudness  mode  speechiness  acousticness  instrumentalness  liveness  \\\n",
              "0       -7.727     1       0.0403        0.4900          0.000000    0.0779   \n",
              "1      -12.475     1       0.0337        0.0180          0.107000    0.1760   \n",
              "2      -13.392     1       0.0380        0.8460          0.000004    0.1190   \n",
              "3      -12.058     0       0.1040        0.7060          0.024600    0.0610   \n",
              "4       -3.515     0       0.1240        0.8570          0.000872    0.2130   \n",
              "...        ...   ...          ...           ...               ...       ...   \n",
              "6393   -14.430     1       0.0342        0.8860          0.966000    0.3140   \n",
              "6394    -9.954     1       0.0941        0.0996          0.000000    0.2610   \n",
              "6395    -4.581     1       0.0355        0.0132          0.000003    0.1390   \n",
              "6396   -16.070     1       0.0561        0.9890          0.868000    0.1490   \n",
              "6397   -23.025     0       0.0443        0.9640          0.696000    0.1030   \n",
              "\n",
              "      valence    tempo  duration_ms  time_signature  chorus_hit  sections  \\\n",
              "0      0.8450  185.655       173533               3    32.94975         9   \n",
              "1      0.7970  101.801       213613               4    48.82510        10   \n",
              "2      0.9080  115.940       223960               4    37.22663        12   \n",
              "3      0.9670  105.592       157907               4    24.75484         8   \n",
              "4      0.9060  114.617       245600               4    21.79874        14   \n",
              "...       ...      ...          ...             ...         ...       ...   \n",
              "6393   0.0361   72.272       150857               4    24.30824         7   \n",
              "6394   0.7400  119.985       152000               4    32.53856         8   \n",
              "6395   0.6050  119.999       227760               4    20.73371         7   \n",
              "6396   0.5600  120.030       213387               4    21.65301        14   \n",
              "6397   0.0297   95.182       341396               4    71.05343        15   \n",
              "\n",
              "      target  \n",
              "0          1  \n",
              "1          0  \n",
              "2          0  \n",
              "3          0  \n",
              "4          0  \n",
              "...      ...  \n",
              "6393       0  \n",
              "6394       1  \n",
              "6395       1  \n",
              "6396       0  \n",
              "6397       0  \n",
              "\n",
              "[41106 rows x 19 columns]>"
            ]
          },
          "metadata": {},
          "execution_count": 4
        }
      ]
    },
    {
      "cell_type": "code",
      "source": [
        "data.shape"
      ],
      "metadata": {
        "colab": {
          "base_uri": "https://localhost:8080/"
        },
        "id": "Je8Jk5vQA66x",
        "outputId": "957f71f1-9026-43b7-ccdc-3d7e396a16b5"
      },
      "execution_count": null,
      "outputs": [
        {
          "output_type": "execute_result",
          "data": {
            "text/plain": [
              "(41106, 19)"
            ]
          },
          "metadata": {},
          "execution_count": 5
        }
      ]
    },
    {
      "cell_type": "code",
      "source": [
        "data.info()"
      ],
      "metadata": {
        "colab": {
          "base_uri": "https://localhost:8080/"
        },
        "id": "SoQk0WNFA-hg",
        "outputId": "9f9cba61-02f2-4436-a97a-e3db06c63bf8"
      },
      "execution_count": null,
      "outputs": [
        {
          "output_type": "stream",
          "name": "stdout",
          "text": [
            "<class 'pandas.core.frame.DataFrame'>\n",
            "Int64Index: 41106 entries, 0 to 6397\n",
            "Data columns (total 19 columns):\n",
            " #   Column            Non-Null Count  Dtype  \n",
            "---  ------            --------------  -----  \n",
            " 0   track             41106 non-null  object \n",
            " 1   artist            41106 non-null  object \n",
            " 2   uri               41106 non-null  object \n",
            " 3   danceability      41106 non-null  float64\n",
            " 4   energy            41106 non-null  float64\n",
            " 5   key               41106 non-null  int64  \n",
            " 6   loudness          41106 non-null  float64\n",
            " 7   mode              41106 non-null  int64  \n",
            " 8   speechiness       41106 non-null  float64\n",
            " 9   acousticness      41106 non-null  float64\n",
            " 10  instrumentalness  41106 non-null  float64\n",
            " 11  liveness          41106 non-null  float64\n",
            " 12  valence           41106 non-null  float64\n",
            " 13  tempo             41106 non-null  float64\n",
            " 14  duration_ms       41106 non-null  int64  \n",
            " 15  time_signature    41106 non-null  int64  \n",
            " 16  chorus_hit        41106 non-null  float64\n",
            " 17  sections          41106 non-null  int64  \n",
            " 18  target            41106 non-null  int64  \n",
            "dtypes: float64(10), int64(6), object(3)\n",
            "memory usage: 6.3+ MB\n"
          ]
        }
      ]
    },
    {
      "cell_type": "code",
      "source": [
        "data.columns"
      ],
      "metadata": {
        "colab": {
          "base_uri": "https://localhost:8080/"
        },
        "id": "hLEmtl3XBCnL",
        "outputId": "f4072ea7-1b0e-43c9-85c2-28cb0fb2f04a"
      },
      "execution_count": null,
      "outputs": [
        {
          "output_type": "execute_result",
          "data": {
            "text/plain": [
              "Index(['track', 'artist', 'uri', 'danceability', 'energy', 'key', 'loudness',\n",
              "       'mode', 'speechiness', 'acousticness', 'instrumentalness', 'liveness',\n",
              "       'valence', 'tempo', 'duration_ms', 'time_signature', 'chorus_hit',\n",
              "       'sections', 'target'],\n",
              "      dtype='object')"
            ]
          },
          "metadata": {},
          "execution_count": 7
        }
      ]
    },
    {
      "cell_type": "code",
      "source": [
        "data.nunique(axis=0)"
      ],
      "metadata": {
        "colab": {
          "base_uri": "https://localhost:8080/"
        },
        "id": "uZ-Oj61iBFAI",
        "outputId": "171ccd8b-848c-48cf-d4d6-ddd6c63503a8"
      },
      "execution_count": null,
      "outputs": [
        {
          "output_type": "execute_result",
          "data": {
            "text/plain": [
              "track               35860\n",
              "artist              11904\n",
              "uri                 40560\n",
              "danceability         1048\n",
              "energy               1787\n",
              "key                    12\n",
              "loudness            16160\n",
              "mode                    2\n",
              "speechiness          1346\n",
              "acousticness         4194\n",
              "instrumentalness     5122\n",
              "liveness             1674\n",
              "valence              1609\n",
              "tempo               32152\n",
              "duration_ms         21517\n",
              "time_signature          5\n",
              "chorus_hit          39950\n",
              "sections               84\n",
              "target                  2\n",
              "dtype: int64"
            ]
          },
          "metadata": {},
          "execution_count": 8
        }
      ]
    },
    {
      "cell_type": "code",
      "source": [
        "data.describe().apply(lambda s: s.apply(lambda x: format(x, 'f')))"
      ],
      "metadata": {
        "colab": {
          "base_uri": "https://localhost:8080/",
          "height": 364
        },
        "id": "eBINwT5VBJ1T",
        "outputId": "3a3a55fb-3266-43e9-a6f1-56cece954058"
      },
      "execution_count": null,
      "outputs": [
        {
          "output_type": "execute_result",
          "data": {
            "text/plain": [
              "       danceability        energy           key      loudness          mode  \\\n",
              "count  41106.000000  41106.000000  41106.000000  41106.000000  41106.000000   \n",
              "mean       0.539695      0.579545      5.213594    -10.221525      0.693354   \n",
              "std        0.177821      0.252628      3.534977      5.311626      0.461107   \n",
              "min        0.000000      0.000251      0.000000    -49.253000      0.000000   \n",
              "25%        0.420000      0.396000      2.000000    -12.816000      0.000000   \n",
              "50%        0.552000      0.601000      5.000000     -9.257000      1.000000   \n",
              "75%        0.669000      0.787000      8.000000     -6.374250      1.000000   \n",
              "max        0.988000      1.000000     11.000000      3.744000      1.000000   \n",
              "\n",
              "        speechiness  acousticness instrumentalness      liveness  \\\n",
              "count  41106.000000  41106.000000     41106.000000  41106.000000   \n",
              "mean       0.072960      0.364197         0.154416      0.201535   \n",
              "std        0.086112      0.338913         0.303530      0.172959   \n",
              "min        0.000000      0.000000         0.000000      0.013000   \n",
              "25%        0.033700      0.039400         0.000000      0.094000   \n",
              "50%        0.043400      0.258000         0.000120      0.132000   \n",
              "75%        0.069800      0.676000         0.061250      0.261000   \n",
              "max        0.960000      0.996000         1.000000      0.999000   \n",
              "\n",
              "            valence         tempo     duration_ms time_signature  \\\n",
              "count  41106.000000  41106.000000    41106.000000   41106.000000   \n",
              "mean       0.542440    119.338249   234877.550455       3.893689   \n",
              "std        0.267329     29.098845   118967.398337       0.423073   \n",
              "min        0.000000      0.000000    15168.000000       0.000000   \n",
              "25%        0.330000     97.397000   172927.750000       4.000000   \n",
              "50%        0.558000    117.565000   217907.000000       4.000000   \n",
              "75%        0.768000    136.494000   266773.000000       4.000000   \n",
              "max        0.996000    241.423000  4170227.000000       5.000000   \n",
              "\n",
              "         chorus_hit      sections        target  \n",
              "count  41106.000000  41106.000000  41106.000000  \n",
              "mean      40.106041     10.475673      0.500000  \n",
              "std       19.005515      4.871850      0.500006  \n",
              "min        0.000000      0.000000      0.000000  \n",
              "25%       27.599792      8.000000      0.000000  \n",
              "50%       35.850795     10.000000      0.500000  \n",
              "75%       47.625615     12.000000      1.000000  \n",
              "max      433.182000    169.000000      1.000000  "
            ],
            "text/html": [
              "\n",
              "  <div id=\"df-bdf936ff-344f-4014-a25f-c7673525f4c6\">\n",
              "    <div class=\"colab-df-container\">\n",
              "      <div>\n",
              "<style scoped>\n",
              "    .dataframe tbody tr th:only-of-type {\n",
              "        vertical-align: middle;\n",
              "    }\n",
              "\n",
              "    .dataframe tbody tr th {\n",
              "        vertical-align: top;\n",
              "    }\n",
              "\n",
              "    .dataframe thead th {\n",
              "        text-align: right;\n",
              "    }\n",
              "</style>\n",
              "<table border=\"1\" class=\"dataframe\">\n",
              "  <thead>\n",
              "    <tr style=\"text-align: right;\">\n",
              "      <th></th>\n",
              "      <th>danceability</th>\n",
              "      <th>energy</th>\n",
              "      <th>key</th>\n",
              "      <th>loudness</th>\n",
              "      <th>mode</th>\n",
              "      <th>speechiness</th>\n",
              "      <th>acousticness</th>\n",
              "      <th>instrumentalness</th>\n",
              "      <th>liveness</th>\n",
              "      <th>valence</th>\n",
              "      <th>tempo</th>\n",
              "      <th>duration_ms</th>\n",
              "      <th>time_signature</th>\n",
              "      <th>chorus_hit</th>\n",
              "      <th>sections</th>\n",
              "      <th>target</th>\n",
              "    </tr>\n",
              "  </thead>\n",
              "  <tbody>\n",
              "    <tr>\n",
              "      <th>count</th>\n",
              "      <td>41106.000000</td>\n",
              "      <td>41106.000000</td>\n",
              "      <td>41106.000000</td>\n",
              "      <td>41106.000000</td>\n",
              "      <td>41106.000000</td>\n",
              "      <td>41106.000000</td>\n",
              "      <td>41106.000000</td>\n",
              "      <td>41106.000000</td>\n",
              "      <td>41106.000000</td>\n",
              "      <td>41106.000000</td>\n",
              "      <td>41106.000000</td>\n",
              "      <td>41106.000000</td>\n",
              "      <td>41106.000000</td>\n",
              "      <td>41106.000000</td>\n",
              "      <td>41106.000000</td>\n",
              "      <td>41106.000000</td>\n",
              "    </tr>\n",
              "    <tr>\n",
              "      <th>mean</th>\n",
              "      <td>0.539695</td>\n",
              "      <td>0.579545</td>\n",
              "      <td>5.213594</td>\n",
              "      <td>-10.221525</td>\n",
              "      <td>0.693354</td>\n",
              "      <td>0.072960</td>\n",
              "      <td>0.364197</td>\n",
              "      <td>0.154416</td>\n",
              "      <td>0.201535</td>\n",
              "      <td>0.542440</td>\n",
              "      <td>119.338249</td>\n",
              "      <td>234877.550455</td>\n",
              "      <td>3.893689</td>\n",
              "      <td>40.106041</td>\n",
              "      <td>10.475673</td>\n",
              "      <td>0.500000</td>\n",
              "    </tr>\n",
              "    <tr>\n",
              "      <th>std</th>\n",
              "      <td>0.177821</td>\n",
              "      <td>0.252628</td>\n",
              "      <td>3.534977</td>\n",
              "      <td>5.311626</td>\n",
              "      <td>0.461107</td>\n",
              "      <td>0.086112</td>\n",
              "      <td>0.338913</td>\n",
              "      <td>0.303530</td>\n",
              "      <td>0.172959</td>\n",
              "      <td>0.267329</td>\n",
              "      <td>29.098845</td>\n",
              "      <td>118967.398337</td>\n",
              "      <td>0.423073</td>\n",
              "      <td>19.005515</td>\n",
              "      <td>4.871850</td>\n",
              "      <td>0.500006</td>\n",
              "    </tr>\n",
              "    <tr>\n",
              "      <th>min</th>\n",
              "      <td>0.000000</td>\n",
              "      <td>0.000251</td>\n",
              "      <td>0.000000</td>\n",
              "      <td>-49.253000</td>\n",
              "      <td>0.000000</td>\n",
              "      <td>0.000000</td>\n",
              "      <td>0.000000</td>\n",
              "      <td>0.000000</td>\n",
              "      <td>0.013000</td>\n",
              "      <td>0.000000</td>\n",
              "      <td>0.000000</td>\n",
              "      <td>15168.000000</td>\n",
              "      <td>0.000000</td>\n",
              "      <td>0.000000</td>\n",
              "      <td>0.000000</td>\n",
              "      <td>0.000000</td>\n",
              "    </tr>\n",
              "    <tr>\n",
              "      <th>25%</th>\n",
              "      <td>0.420000</td>\n",
              "      <td>0.396000</td>\n",
              "      <td>2.000000</td>\n",
              "      <td>-12.816000</td>\n",
              "      <td>0.000000</td>\n",
              "      <td>0.033700</td>\n",
              "      <td>0.039400</td>\n",
              "      <td>0.000000</td>\n",
              "      <td>0.094000</td>\n",
              "      <td>0.330000</td>\n",
              "      <td>97.397000</td>\n",
              "      <td>172927.750000</td>\n",
              "      <td>4.000000</td>\n",
              "      <td>27.599792</td>\n",
              "      <td>8.000000</td>\n",
              "      <td>0.000000</td>\n",
              "    </tr>\n",
              "    <tr>\n",
              "      <th>50%</th>\n",
              "      <td>0.552000</td>\n",
              "      <td>0.601000</td>\n",
              "      <td>5.000000</td>\n",
              "      <td>-9.257000</td>\n",
              "      <td>1.000000</td>\n",
              "      <td>0.043400</td>\n",
              "      <td>0.258000</td>\n",
              "      <td>0.000120</td>\n",
              "      <td>0.132000</td>\n",
              "      <td>0.558000</td>\n",
              "      <td>117.565000</td>\n",
              "      <td>217907.000000</td>\n",
              "      <td>4.000000</td>\n",
              "      <td>35.850795</td>\n",
              "      <td>10.000000</td>\n",
              "      <td>0.500000</td>\n",
              "    </tr>\n",
              "    <tr>\n",
              "      <th>75%</th>\n",
              "      <td>0.669000</td>\n",
              "      <td>0.787000</td>\n",
              "      <td>8.000000</td>\n",
              "      <td>-6.374250</td>\n",
              "      <td>1.000000</td>\n",
              "      <td>0.069800</td>\n",
              "      <td>0.676000</td>\n",
              "      <td>0.061250</td>\n",
              "      <td>0.261000</td>\n",
              "      <td>0.768000</td>\n",
              "      <td>136.494000</td>\n",
              "      <td>266773.000000</td>\n",
              "      <td>4.000000</td>\n",
              "      <td>47.625615</td>\n",
              "      <td>12.000000</td>\n",
              "      <td>1.000000</td>\n",
              "    </tr>\n",
              "    <tr>\n",
              "      <th>max</th>\n",
              "      <td>0.988000</td>\n",
              "      <td>1.000000</td>\n",
              "      <td>11.000000</td>\n",
              "      <td>3.744000</td>\n",
              "      <td>1.000000</td>\n",
              "      <td>0.960000</td>\n",
              "      <td>0.996000</td>\n",
              "      <td>1.000000</td>\n",
              "      <td>0.999000</td>\n",
              "      <td>0.996000</td>\n",
              "      <td>241.423000</td>\n",
              "      <td>4170227.000000</td>\n",
              "      <td>5.000000</td>\n",
              "      <td>433.182000</td>\n",
              "      <td>169.000000</td>\n",
              "      <td>1.000000</td>\n",
              "    </tr>\n",
              "  </tbody>\n",
              "</table>\n",
              "</div>\n",
              "      <button class=\"colab-df-convert\" onclick=\"convertToInteractive('df-bdf936ff-344f-4014-a25f-c7673525f4c6')\"\n",
              "              title=\"Convert this dataframe to an interactive table.\"\n",
              "              style=\"display:none;\">\n",
              "        \n",
              "  <svg xmlns=\"http://www.w3.org/2000/svg\" height=\"24px\"viewBox=\"0 0 24 24\"\n",
              "       width=\"24px\">\n",
              "    <path d=\"M0 0h24v24H0V0z\" fill=\"none\"/>\n",
              "    <path d=\"M18.56 5.44l.94 2.06.94-2.06 2.06-.94-2.06-.94-.94-2.06-.94 2.06-2.06.94zm-11 1L8.5 8.5l.94-2.06 2.06-.94-2.06-.94L8.5 2.5l-.94 2.06-2.06.94zm10 10l.94 2.06.94-2.06 2.06-.94-2.06-.94-.94-2.06-.94 2.06-2.06.94z\"/><path d=\"M17.41 7.96l-1.37-1.37c-.4-.4-.92-.59-1.43-.59-.52 0-1.04.2-1.43.59L10.3 9.45l-7.72 7.72c-.78.78-.78 2.05 0 2.83L4 21.41c.39.39.9.59 1.41.59.51 0 1.02-.2 1.41-.59l7.78-7.78 2.81-2.81c.8-.78.8-2.07 0-2.86zM5.41 20L4 18.59l7.72-7.72 1.47 1.35L5.41 20z\"/>\n",
              "  </svg>\n",
              "      </button>\n",
              "      \n",
              "  <style>\n",
              "    .colab-df-container {\n",
              "      display:flex;\n",
              "      flex-wrap:wrap;\n",
              "      gap: 12px;\n",
              "    }\n",
              "\n",
              "    .colab-df-convert {\n",
              "      background-color: #E8F0FE;\n",
              "      border: none;\n",
              "      border-radius: 50%;\n",
              "      cursor: pointer;\n",
              "      display: none;\n",
              "      fill: #1967D2;\n",
              "      height: 32px;\n",
              "      padding: 0 0 0 0;\n",
              "      width: 32px;\n",
              "    }\n",
              "\n",
              "    .colab-df-convert:hover {\n",
              "      background-color: #E2EBFA;\n",
              "      box-shadow: 0px 1px 2px rgba(60, 64, 67, 0.3), 0px 1px 3px 1px rgba(60, 64, 67, 0.15);\n",
              "      fill: #174EA6;\n",
              "    }\n",
              "\n",
              "    [theme=dark] .colab-df-convert {\n",
              "      background-color: #3B4455;\n",
              "      fill: #D2E3FC;\n",
              "    }\n",
              "\n",
              "    [theme=dark] .colab-df-convert:hover {\n",
              "      background-color: #434B5C;\n",
              "      box-shadow: 0px 1px 3px 1px rgba(0, 0, 0, 0.15);\n",
              "      filter: drop-shadow(0px 1px 2px rgba(0, 0, 0, 0.3));\n",
              "      fill: #FFFFFF;\n",
              "    }\n",
              "  </style>\n",
              "\n",
              "      <script>\n",
              "        const buttonEl =\n",
              "          document.querySelector('#df-bdf936ff-344f-4014-a25f-c7673525f4c6 button.colab-df-convert');\n",
              "        buttonEl.style.display =\n",
              "          google.colab.kernel.accessAllowed ? 'block' : 'none';\n",
              "\n",
              "        async function convertToInteractive(key) {\n",
              "          const element = document.querySelector('#df-bdf936ff-344f-4014-a25f-c7673525f4c6');\n",
              "          const dataTable =\n",
              "            await google.colab.kernel.invokeFunction('convertToInteractive',\n",
              "                                                     [key], {});\n",
              "          if (!dataTable) return;\n",
              "\n",
              "          const docLinkHtml = 'Like what you see? Visit the ' +\n",
              "            '<a target=\"_blank\" href=https://colab.research.google.com/notebooks/data_table.ipynb>data table notebook</a>'\n",
              "            + ' to learn more about interactive tables.';\n",
              "          element.innerHTML = '';\n",
              "          dataTable['output_type'] = 'display_data';\n",
              "          await google.colab.output.renderOutput(dataTable, element);\n",
              "          const docLink = document.createElement('div');\n",
              "          docLink.innerHTML = docLinkHtml;\n",
              "          element.appendChild(docLink);\n",
              "        }\n",
              "      </script>\n",
              "    </div>\n",
              "  </div>\n",
              "  "
            ]
          },
          "metadata": {},
          "execution_count": 9
        }
      ]
    },
    {
      "cell_type": "code",
      "source": [
        "total = data.isnull().sum().sort_values(ascending=False)\n",
        "percent = (data.isnull().sum()/data.isnull().count()).sort_values(ascending=False)\n",
        "missing_data = pd.concat([total,percent],axis=1,keys=[\"total\",\"percent\"])\n",
        "missing_data.head()"
      ],
      "metadata": {
        "colab": {
          "base_uri": "https://localhost:8080/",
          "height": 206
        },
        "id": "2RzH8HiJBMVk",
        "outputId": "962edcaf-3b0a-4d61-d8c3-718fc553db31"
      },
      "execution_count": null,
      "outputs": [
        {
          "output_type": "execute_result",
          "data": {
            "text/plain": [
              "                  total  percent\n",
              "track                 0      0.0\n",
              "instrumentalness      0      0.0\n",
              "sections              0      0.0\n",
              "chorus_hit            0      0.0\n",
              "time_signature        0      0.0"
            ],
            "text/html": [
              "\n",
              "  <div id=\"df-0ed9cb19-99fe-41f0-b031-5c265194ab35\">\n",
              "    <div class=\"colab-df-container\">\n",
              "      <div>\n",
              "<style scoped>\n",
              "    .dataframe tbody tr th:only-of-type {\n",
              "        vertical-align: middle;\n",
              "    }\n",
              "\n",
              "    .dataframe tbody tr th {\n",
              "        vertical-align: top;\n",
              "    }\n",
              "\n",
              "    .dataframe thead th {\n",
              "        text-align: right;\n",
              "    }\n",
              "</style>\n",
              "<table border=\"1\" class=\"dataframe\">\n",
              "  <thead>\n",
              "    <tr style=\"text-align: right;\">\n",
              "      <th></th>\n",
              "      <th>total</th>\n",
              "      <th>percent</th>\n",
              "    </tr>\n",
              "  </thead>\n",
              "  <tbody>\n",
              "    <tr>\n",
              "      <th>track</th>\n",
              "      <td>0</td>\n",
              "      <td>0.0</td>\n",
              "    </tr>\n",
              "    <tr>\n",
              "      <th>instrumentalness</th>\n",
              "      <td>0</td>\n",
              "      <td>0.0</td>\n",
              "    </tr>\n",
              "    <tr>\n",
              "      <th>sections</th>\n",
              "      <td>0</td>\n",
              "      <td>0.0</td>\n",
              "    </tr>\n",
              "    <tr>\n",
              "      <th>chorus_hit</th>\n",
              "      <td>0</td>\n",
              "      <td>0.0</td>\n",
              "    </tr>\n",
              "    <tr>\n",
              "      <th>time_signature</th>\n",
              "      <td>0</td>\n",
              "      <td>0.0</td>\n",
              "    </tr>\n",
              "  </tbody>\n",
              "</table>\n",
              "</div>\n",
              "      <button class=\"colab-df-convert\" onclick=\"convertToInteractive('df-0ed9cb19-99fe-41f0-b031-5c265194ab35')\"\n",
              "              title=\"Convert this dataframe to an interactive table.\"\n",
              "              style=\"display:none;\">\n",
              "        \n",
              "  <svg xmlns=\"http://www.w3.org/2000/svg\" height=\"24px\"viewBox=\"0 0 24 24\"\n",
              "       width=\"24px\">\n",
              "    <path d=\"M0 0h24v24H0V0z\" fill=\"none\"/>\n",
              "    <path d=\"M18.56 5.44l.94 2.06.94-2.06 2.06-.94-2.06-.94-.94-2.06-.94 2.06-2.06.94zm-11 1L8.5 8.5l.94-2.06 2.06-.94-2.06-.94L8.5 2.5l-.94 2.06-2.06.94zm10 10l.94 2.06.94-2.06 2.06-.94-2.06-.94-.94-2.06-.94 2.06-2.06.94z\"/><path d=\"M17.41 7.96l-1.37-1.37c-.4-.4-.92-.59-1.43-.59-.52 0-1.04.2-1.43.59L10.3 9.45l-7.72 7.72c-.78.78-.78 2.05 0 2.83L4 21.41c.39.39.9.59 1.41.59.51 0 1.02-.2 1.41-.59l7.78-7.78 2.81-2.81c.8-.78.8-2.07 0-2.86zM5.41 20L4 18.59l7.72-7.72 1.47 1.35L5.41 20z\"/>\n",
              "  </svg>\n",
              "      </button>\n",
              "      \n",
              "  <style>\n",
              "    .colab-df-container {\n",
              "      display:flex;\n",
              "      flex-wrap:wrap;\n",
              "      gap: 12px;\n",
              "    }\n",
              "\n",
              "    .colab-df-convert {\n",
              "      background-color: #E8F0FE;\n",
              "      border: none;\n",
              "      border-radius: 50%;\n",
              "      cursor: pointer;\n",
              "      display: none;\n",
              "      fill: #1967D2;\n",
              "      height: 32px;\n",
              "      padding: 0 0 0 0;\n",
              "      width: 32px;\n",
              "    }\n",
              "\n",
              "    .colab-df-convert:hover {\n",
              "      background-color: #E2EBFA;\n",
              "      box-shadow: 0px 1px 2px rgba(60, 64, 67, 0.3), 0px 1px 3px 1px rgba(60, 64, 67, 0.15);\n",
              "      fill: #174EA6;\n",
              "    }\n",
              "\n",
              "    [theme=dark] .colab-df-convert {\n",
              "      background-color: #3B4455;\n",
              "      fill: #D2E3FC;\n",
              "    }\n",
              "\n",
              "    [theme=dark] .colab-df-convert:hover {\n",
              "      background-color: #434B5C;\n",
              "      box-shadow: 0px 1px 3px 1px rgba(0, 0, 0, 0.15);\n",
              "      filter: drop-shadow(0px 1px 2px rgba(0, 0, 0, 0.3));\n",
              "      fill: #FFFFFF;\n",
              "    }\n",
              "  </style>\n",
              "\n",
              "      <script>\n",
              "        const buttonEl =\n",
              "          document.querySelector('#df-0ed9cb19-99fe-41f0-b031-5c265194ab35 button.colab-df-convert');\n",
              "        buttonEl.style.display =\n",
              "          google.colab.kernel.accessAllowed ? 'block' : 'none';\n",
              "\n",
              "        async function convertToInteractive(key) {\n",
              "          const element = document.querySelector('#df-0ed9cb19-99fe-41f0-b031-5c265194ab35');\n",
              "          const dataTable =\n",
              "            await google.colab.kernel.invokeFunction('convertToInteractive',\n",
              "                                                     [key], {});\n",
              "          if (!dataTable) return;\n",
              "\n",
              "          const docLinkHtml = 'Like what you see? Visit the ' +\n",
              "            '<a target=\"_blank\" href=https://colab.research.google.com/notebooks/data_table.ipynb>data table notebook</a>'\n",
              "            + ' to learn more about interactive tables.';\n",
              "          element.innerHTML = '';\n",
              "          dataTable['output_type'] = 'display_data';\n",
              "          await google.colab.output.renderOutput(dataTable, element);\n",
              "          const docLink = document.createElement('div');\n",
              "          docLink.innerHTML = docLinkHtml;\n",
              "          element.appendChild(docLink);\n",
              "        }\n",
              "      </script>\n",
              "    </div>\n",
              "  </div>\n",
              "  "
            ]
          },
          "metadata": {},
          "execution_count": 10
        }
      ]
    },
    {
      "cell_type": "code",
      "source": [
        "len(data._get_numeric_data().columns)"
      ],
      "metadata": {
        "colab": {
          "base_uri": "https://localhost:8080/"
        },
        "id": "HmJz_zfPBQVq",
        "outputId": "fac46fe6-201b-4bff-e091-8d65305a3314"
      },
      "execution_count": null,
      "outputs": [
        {
          "output_type": "execute_result",
          "data": {
            "text/plain": [
              "16"
            ]
          },
          "metadata": {},
          "execution_count": 11
        }
      ]
    },
    {
      "cell_type": "code",
      "source": [
        "categorical_cols=data.columns[data.dtypes =='object']\n",
        "print(categorical_cols)"
      ],
      "metadata": {
        "colab": {
          "base_uri": "https://localhost:8080/"
        },
        "id": "CuOn1DhhBZDq",
        "outputId": "f308f79d-f088-4d8a-c459-b169e0e110c7"
      },
      "execution_count": null,
      "outputs": [
        {
          "output_type": "stream",
          "name": "stdout",
          "text": [
            "Index(['track', 'artist', 'uri'], dtype='object')\n"
          ]
        }
      ]
    },
    {
      "cell_type": "code",
      "source": [
        "\n",
        "def preprocessing(data_df):\n",
        "    data_prev = data_df.copy()\n",
        "\n",
        "    \"\"\" Let's drop the categorical columns for our analysis\n",
        "    \"\"\"\n",
        "    data_df = data_df.drop(['track', 'artist', 'uri'], axis=1)\n",
        "\n",
        "    y = data_df['target']\n",
        "    X = data_df.drop('target', axis=1)\n",
        "    print(X.shape,y.shape)\n",
        "\n",
        "    \"\"\" Splitting of data\n",
        "    \"\"\"\n",
        "    X_inter, X_test, y_inter, y_test = train_test_split(X, y, train_size=0.8, test_size=0.2,shuffle=True, random_state=1)\n",
        "\n",
        "    X_train, X_val, y_train, y_val = train_test_split(X_inter, y_inter, train_size=0.75, test_size=0.25, shuffle=True, random_state=1)\n",
        "\n",
        "    \"\"\" Standard Scaling of data\n",
        "    \"\"\"\n",
        "    scaler = StandardScaler()\n",
        "    \"\"\" Only passing training set to avoid data leakage\n",
        "    \"\"\"\n",
        "    scaler.fit(X_train)\n",
        "    X_train = pd.DataFrame(scaler.transform(X_train), index=X_train.index, columns=X_train.columns)\n",
        "    X_val = pd.DataFrame(scaler.transform(X_val), index=X_val.index, columns=X_val.columns)\n",
        "    X_test = pd.DataFrame(scaler.transform(X_test), index=X_test.index, columns=X_test.columns)\n",
        "\n",
        "    return X_train, X_test, X_val, y_train, y_test, y_val"
      ],
      "metadata": {
        "id": "wFQl2xgGBbbd"
      },
      "execution_count": null,
      "outputs": []
    },
    {
      "cell_type": "code",
      "source": [
        "X_train, X_test, X_val, y_train, y_test, y_val = preprocessing(data)"
      ],
      "metadata": {
        "colab": {
          "base_uri": "https://localhost:8080/"
        },
        "id": "uAnooVxtBfxd",
        "outputId": "9f3514a3-9231-444e-ff8b-63cc387142af"
      },
      "execution_count": null,
      "outputs": [
        {
          "output_type": "stream",
          "name": "stdout",
          "text": [
            "(41106, 15) (41106,)\n"
          ]
        }
      ]
    },
    {
      "cell_type": "code",
      "source": [
        "print(X_train.shape)\n",
        "print(X_test.shape)\n",
        "print(X_val.shape)"
      ],
      "metadata": {
        "colab": {
          "base_uri": "https://localhost:8080/"
        },
        "id": "OKkM1yPUBiXQ",
        "outputId": "93144aa6-e4a0-4072-d865-e14d617ccab0"
      },
      "execution_count": null,
      "outputs": [
        {
          "output_type": "stream",
          "name": "stdout",
          "text": [
            "(24663, 15)\n",
            "(8222, 15)\n",
            "(8221, 15)\n"
          ]
        }
      ]
    },
    {
      "cell_type": "code",
      "source": [
        "print(y_train.shape)\n",
        "print(y_test.shape)\n",
        "print(y_val.shape)"
      ],
      "metadata": {
        "colab": {
          "base_uri": "https://localhost:8080/"
        },
        "id": "4sQ32C6-Bk-W",
        "outputId": "ed9b8598-d662-4f49-8b40-d0f464aa90f0"
      },
      "execution_count": null,
      "outputs": [
        {
          "output_type": "stream",
          "name": "stdout",
          "text": [
            "(24663,)\n",
            "(8222,)\n",
            "(8221,)\n"
          ]
        }
      ]
    },
    {
      "cell_type": "markdown",
      "source": [
        "LOGISTIC REGRESSION::::"
      ],
      "metadata": {
        "id": "NWz4nsQYBvtK"
      }
    },
    {
      "cell_type": "code",
      "source": [
        "def Logistic_regression(solver,max_iter=100,C=1,penalty=None):\n",
        "  model = LogisticRegression(solver=solver,C=C, max_iter=max_iter,penalty=\"l2\")\n",
        "  model.fit(X_train, y_train)\n",
        "  n_scores_val = model.score(X_val, y_val)\n",
        "  n_scores_train = model.score(X_train, y_train)\n",
        "  print('Mean training Accuracy:',n_scores_train)\n",
        "  print('Mean validation Accuracy:',n_scores_val)\n",
        "  return n_scores_train, n_scores_val"
      ],
      "metadata": {
        "id": "es5XglMpBnFR"
      },
      "execution_count": null,
      "outputs": []
    },
    {
      "cell_type": "code",
      "source": [
        "solver_list=[\"lbfgs\", \"newton-cg\", \"sag\", \"saga\"]\n",
        "for e in solver_list:\n",
        "  print(\"Hyper parameter - Solver: \", e, \"\\n\")\n",
        "  Logistic_regression(e)\n",
        "  print(\"-------------------------------------------- \\n\")"
      ],
      "metadata": {
        "colab": {
          "base_uri": "https://localhost:8080/"
        },
        "id": "U3lrmjdKBz86",
        "outputId": "ae5c8ede-7de5-417f-aff2-70340171bc6e"
      },
      "execution_count": null,
      "outputs": [
        {
          "output_type": "stream",
          "name": "stdout",
          "text": [
            "Hyper parameter - Solver:  lbfgs \n",
            "\n",
            "Mean training Accuracy: 0.7292705672464825\n",
            "Mean validation Accuracy: 0.725824108989174\n",
            "-------------------------------------------- \n",
            "\n",
            "Hyper parameter - Solver:  newton-cg \n",
            "\n",
            "Mean training Accuracy: 0.7292705672464825\n",
            "Mean validation Accuracy: 0.725824108989174\n",
            "-------------------------------------------- \n",
            "\n",
            "Hyper parameter - Solver:  sag \n",
            "\n",
            "Mean training Accuracy: 0.7292705672464825\n",
            "Mean validation Accuracy: 0.725824108989174\n",
            "-------------------------------------------- \n",
            "\n",
            "Hyper parameter - Solver:  saga \n",
            "\n",
            "Mean training Accuracy: 0.7292705672464825\n",
            "Mean validation Accuracy: 0.725824108989174\n",
            "-------------------------------------------- \n",
            "\n"
          ]
        }
      ]
    },
    {
      "cell_type": "code",
      "source": [
        "# Using hyper parameter - solver (\"lbfgs\", \"newton-cg\", \"sag\", \"saga\") and max_iteration=1000, adding regularization\n",
        "solver_list=[\"lbfgs\", \"newton-cg\", \"sag\", \"saga\"]\n",
        "for e in solver_list:\n",
        "  print(\"Hyper parameter - Solver: \", e, \"\\n\")\n",
        "  Logistic_regression(solver=e,max_iter=1000,C=0.2)\n",
        "  print(\"-------------------------------------------- \\n\")"
      ],
      "metadata": {
        "colab": {
          "base_uri": "https://localhost:8080/"
        },
        "id": "_EZCXVXYB3qY",
        "outputId": "40ecf626-d8dd-490b-e007-59e938fdb55b"
      },
      "execution_count": null,
      "outputs": [
        {
          "output_type": "stream",
          "name": "stdout",
          "text": [
            "Hyper parameter - Solver:  lbfgs \n",
            "\n",
            "Mean training Accuracy: 0.7291489275432834\n",
            "Mean validation Accuracy: 0.7260673883955723\n",
            "-------------------------------------------- \n",
            "\n",
            "Hyper parameter - Solver:  newton-cg \n",
            "\n",
            "Mean training Accuracy: 0.7291489275432834\n",
            "Mean validation Accuracy: 0.7260673883955723\n",
            "-------------------------------------------- \n",
            "\n",
            "Hyper parameter - Solver:  sag \n",
            "\n",
            "Mean training Accuracy: 0.7291489275432834\n",
            "Mean validation Accuracy: 0.7260673883955723\n",
            "-------------------------------------------- \n",
            "\n",
            "Hyper parameter - Solver:  saga \n",
            "\n",
            "Mean training Accuracy: 0.7291489275432834\n",
            "Mean validation Accuracy: 0.7260673883955723\n",
            "-------------------------------------------- \n",
            "\n"
          ]
        }
      ]
    },
    {
      "cell_type": "code",
      "source": [
        "# Using hyper parameter - solver (\"lbfgs\", \"sag\", \"saga\") and max_iteration=100\n",
        "solver_list=[\"lbfgs\",\"sag\", \"saga\",\"newton-cg\"]\n",
        "for e in solver_list:\n",
        "  print(\"Hyper parameter - Solver: \", e)\n",
        "  Logistic_regression(solver=e,C=10)\n",
        "  print(\"\\n\")\n",
        "  print(\"-------------------------------------------- \\n\")"
      ],
      "metadata": {
        "colab": {
          "base_uri": "https://localhost:8080/"
        },
        "id": "ufTJ2ff_CNyh",
        "outputId": "7351aafd-1ca1-44ea-cdce-477a24213fe1"
      },
      "execution_count": null,
      "outputs": [
        {
          "output_type": "stream",
          "name": "stdout",
          "text": [
            "Hyper parameter - Solver:  lbfgs\n",
            "Mean training Accuracy: 0.7292705672464825\n",
            "Mean validation Accuracy: 0.7257024692859749\n",
            "\n",
            "\n",
            "-------------------------------------------- \n",
            "\n",
            "Hyper parameter - Solver:  sag\n",
            "Mean training Accuracy: 0.7292705672464825\n",
            "Mean validation Accuracy: 0.7257024692859749\n",
            "\n",
            "\n",
            "-------------------------------------------- \n",
            "\n",
            "Hyper parameter - Solver:  saga\n",
            "Mean training Accuracy: 0.7293111138142157\n",
            "Mean validation Accuracy: 0.7257024692859749\n",
            "\n",
            "\n",
            "-------------------------------------------- \n",
            "\n",
            "Hyper parameter - Solver:  newton-cg\n",
            "Mean training Accuracy: 0.7292705672464825\n",
            "Mean validation Accuracy: 0.7257024692859749\n",
            "\n",
            "\n",
            "-------------------------------------------- \n",
            "\n"
          ]
        }
      ]
    },
    {
      "cell_type": "code",
      "source": [
        "# Using hyper parameter - solver (\"lbfgs\", \"newton-cg\", \"sag\", \"saga\") and C=0.8\n",
        "solver_list=[\"lbfgs\", \"newton-cg\", \"sag\", \"saga\"]\n",
        "for e in solver_list:\n",
        "  print(\"Hyper parameter - Solver: \", e, \"\\n\")\n",
        "  Logistic_regression(solver=e,C=0.8)\n",
        "  print(\"-------------------------------------------- \\n\")"
      ],
      "metadata": {
        "colab": {
          "base_uri": "https://localhost:8080/"
        },
        "id": "gPlmvkHLDYvx",
        "outputId": "f688f1e3-46a2-43c2-c639-d29eb72596ce"
      },
      "execution_count": null,
      "outputs": [
        {
          "output_type": "stream",
          "name": "stdout",
          "text": [
            "Hyper parameter - Solver:  lbfgs \n",
            "\n",
            "Mean training Accuracy: 0.7292705672464825\n",
            "Mean validation Accuracy: 0.725824108989174\n",
            "-------------------------------------------- \n",
            "\n",
            "Hyper parameter - Solver:  newton-cg \n",
            "\n",
            "Mean training Accuracy: 0.7292705672464825\n",
            "Mean validation Accuracy: 0.725824108989174\n",
            "-------------------------------------------- \n",
            "\n",
            "Hyper parameter - Solver:  sag \n",
            "\n",
            "Mean training Accuracy: 0.7292705672464825\n",
            "Mean validation Accuracy: 0.725824108989174\n",
            "-------------------------------------------- \n",
            "\n",
            "Hyper parameter - Solver:  saga \n",
            "\n",
            "Mean training Accuracy: 0.7292705672464825\n",
            "Mean validation Accuracy: 0.725824108989174\n",
            "-------------------------------------------- \n",
            "\n"
          ]
        }
      ]
    },
    {
      "cell_type": "code",
      "source": [
        "penalty=['l1', 'l2', 'elasticnet']\n",
        "for e in penalty:\n",
        "  print(\"Hyper parameter - Penalty: \", e, \"\\n\")\n",
        "  Logistic_regression(solver=\"lbfgs\",penalty=e,C= 200000)\n",
        "  print(\"-------------------------------------------- \\n\")"
      ],
      "metadata": {
        "colab": {
          "base_uri": "https://localhost:8080/"
        },
        "id": "cnEpwzCkDksD",
        "outputId": "679b1d52-181f-4bdf-d21a-dfc81b737696"
      },
      "execution_count": null,
      "outputs": [
        {
          "output_type": "stream",
          "name": "stdout",
          "text": [
            "Hyper parameter - Penalty:  l1 \n",
            "\n",
            "Mean training Accuracy: 0.7292705672464825\n",
            "Mean validation Accuracy: 0.7257024692859749\n",
            "-------------------------------------------- \n",
            "\n",
            "Hyper parameter - Penalty:  l2 \n",
            "\n",
            "Mean training Accuracy: 0.7292705672464825\n",
            "Mean validation Accuracy: 0.7257024692859749\n",
            "-------------------------------------------- \n",
            "\n",
            "Hyper parameter - Penalty:  elasticnet \n",
            "\n",
            "Mean training Accuracy: 0.7292705672464825\n",
            "Mean validation Accuracy: 0.7257024692859749\n",
            "-------------------------------------------- \n",
            "\n"
          ]
        }
      ]
    },
    {
      "cell_type": "markdown",
      "source": [
        "SUPPORT VECTOR MACHINE:::"
      ],
      "metadata": {
        "id": "JwNcha4-DriY"
      }
    },
    {
      "cell_type": "code",
      "source": [
        "\n",
        "def try_kernels(kernel_name,c=None,g=None,cm=True):\n",
        "  print(\"Fitting model with {} kernal\".format(kernel_name))\n",
        "  if c is not None:\n",
        "    model = SVC(kernel=kernel_name,C=c,gamma=g)\n",
        "  else:\n",
        "    model = SVC(kernel=kernel_name)\n",
        "  model.fit(X_train, y_train)\n",
        "  y_pred = model.predict(X_test)\n",
        "  training_acc=model.score(X_train,y_train)\n",
        "  validation_acc=model.score(X_test,y_test)\n",
        "  print(\"training accuracy with hyperparams:\", model.score(X_train,y_train), \"\\n\")\n",
        "  print(\"validation accuracy with hyperparams:\", model.score(X_test,y_test), \"\\n\")\n",
        "  if cm:\n",
        "    cm=metrics.confusion_matrix(y_true=y_test, y_pred=y_pred)\n",
        "    matplot.subplots(figsize=(10, 6))\n",
        "    sns.heatmap(cm, annot = True, fmt = 'g')\n",
        "    matplot.xlabel(\"Predicted\")\n",
        "    matplot.ylabel(\"Actual\")\n",
        "    matplot.title(\"Confusion Matrix\")\n",
        "    matplot.show()\n",
        "\n",
        "\n",
        "  print(\"--------------------------------------------------------------------------------\")\n",
        "  return training_acc, validation_acc"
      ],
      "metadata": {
        "id": "1uc5VmkNDoJX"
      },
      "execution_count": null,
      "outputs": []
    },
    {
      "cell_type": "code",
      "source": [
        "kernel_list=[\"linear\",\"poly\", \"sigmoid\",\"rbf\"]\n",
        "for i in kernel_list:\n",
        "  try_kernels(i)"
      ],
      "metadata": {
        "colab": {
          "base_uri": "https://localhost:8080/",
          "height": 1000
        },
        "id": "Mm5kqsr3DxYj",
        "outputId": "e1190340-b382-4464-b83e-febd4ad6748b"
      },
      "execution_count": null,
      "outputs": [
        {
          "output_type": "stream",
          "name": "stdout",
          "text": [
            "Fitting model with linear kernal\n",
            "training accuracy with hyperparams: 0.7285812755950208 \n",
            "\n",
            "validation accuracy with hyperparams: 0.7245195816103138 \n",
            "\n"
          ]
        },
        {
          "output_type": "display_data",
          "data": {
            "text/plain": [
              "<Figure size 1000x600 with 2 Axes>"
            ],
            "image/png": "[encoded data removed]"
          },
          "metadata": {}
        },
        {
          "output_type": "stream",
          "name": "stdout",
          "text": [
            "--------------------------------------------------------------------------------\n",
            "Fitting model with poly kernal\n",
            "training accuracy with hyperparams: 0.7579369906337429 \n",
            "\n",
            "validation accuracy with hyperparams: 0.7374118219411335 \n",
            "\n"
          ]
        },
        {
          "output_type": "display_data",
          "data": {
            "text/plain": [
              "<Figure size 1000x600 with 2 Axes>"
            ],
            "image/png": "[encoded data removed]"
          },
          "metadata": {}
        },
        {
          "output_type": "stream",
          "name": "stdout",
          "text": [
            "--------------------------------------------------------------------------------\n",
            "Fitting model with sigmoid kernal\n",
            "training accuracy with hyperparams: 0.6269715768560191 \n",
            "\n",
            "validation accuracy with hyperparams: 0.630625152031136 \n",
            "\n"
          ]
        },
        {
          "output_type": "display_data",
          "data": {
            "text/plain": [
              "<Figure size 1000x600 with 2 Axes>"
            ],
            "image/png": "[encoded data removed]"
          },
          "metadata": {}
        },
        {
          "output_type": "stream",
          "name": "stdout",
          "text": [
            "--------------------------------------------------------------------------------\n",
            "Fitting model with rbf kernal\n",
            "training accuracy with hyperparams: 0.786441227750071 \n",
            "\n",
            "validation accuracy with hyperparams: 0.771588421308684 \n",
            "\n"
          ]
        },
        {
          "output_type": "display_data",
          "data": {
            "text/plain": [
              "<Figure size 1000x600 with 2 Axes>"
            ],
            "image/png": "[encoded data removed]"
          },
          "metadata": {}
        },
        {
          "output_type": "stream",
          "name": "stdout",
          "text": [
            "--------------------------------------------------------------------------------\n"
          ]
        }
      ]
    },
    {
      "cell_type": "code",
      "source": [],
      "metadata": {
        "id": "CVAjU9DJDz1K"
      },
      "execution_count": null,
      "outputs": []
    },
    {
      "cell_type": "markdown",
      "source": [
        "RANDOM FOREST CLASSIFIER:::"
      ],
      "metadata": {
        "id": "F9owIF4qG_qQ"
      }
    },
    {
      "cell_type": "code",
      "source": [
        "def perform_random_forest(X_train, y_train, X_val, y_val, X_test, y_test,min_samples_leaf=1,max_leaf_nodes=None,n_estimators=100, max_depth=None,feature_analysis=False,cm=True):\n",
        "    rf_clf = RandomForestClassifier(n_estimators=n_estimators, max_depth=max_depth,min_samples_leaf=min_samples_leaf,max_leaf_nodes=max_leaf_nodes)\n",
        "    rf_clf.fit(X_train, y_train)\n",
        "\n",
        "    # Evaluate the training and validation accuracy\n",
        "    train_acc = rf_clf.score(X_train, y_train)\n",
        "    val_acc = rf_clf.score(X_val, y_val)\n",
        "    # test_acc = rf_clf.score(X_test, y_test)\n",
        "\n",
        "    print(f'Training accuracy: {train_acc:.4f}')\n",
        "    print(f'Validation accuracy: {val_acc:.4f}')\n",
        "    # print(f'Testing accuracy: {test_acc:.4f}')\n",
        "\n",
        "    # Analyze feature importance\n",
        "    if feature_analysis:\n",
        "        feature_importance = rf_clf.feature_importances_\n",
        "        sorted_idx = feature_importance.argsort()[::-1]\n",
        "        print(\"Feature Importance Ranking:\")\n",
        "        for idx in sorted_idx:\n",
        "            print(f'Feature {idx+1}: {feature_importance[idx]:.4f}')\n",
        "\n",
        "\n",
        "    # Generate confusion matrix\n",
        "    if cm:\n",
        "      y_pred = rf_clf.predict(X_test)\n",
        "      cm = confusion_matrix(y_test, y_pred)\n",
        "      print(\"Confusion Matrix:\")\n",
        "\n",
        "      matplot.subplots(figsize=(10, 6))\n",
        "      sns.heatmap(cm, annot = True, fmt = 'g')\n",
        "      matplot.xlabel(\"Predicted\")\n",
        "      matplot.ylabel(\"Actual\")\n",
        "      matplot.title(\"Confusion Matrix\")\n",
        "      matplot.show()\n",
        "    return train_acc, val_acc"
      ],
      "metadata": {
        "id": "1ktVCwsjG6pw"
      },
      "execution_count": null,
      "outputs": []
    },
    {
      "cell_type": "code",
      "source": [
        "perform_random_forest(X_train, y_train, X_val, y_val, X_test, y_test)"
      ],
      "metadata": {
        "colab": {
          "base_uri": "https://localhost:8080/",
          "height": 633
        },
        "id": "ic9Zna9oHaWg",
        "outputId": "eda52784-1a43-4554-bdc8-7b7fe10add92"
      },
      "execution_count": null,
      "outputs": [
        {
          "output_type": "stream",
          "name": "stdout",
          "text": [
            "Training accuracy: 0.9995\n",
            "Validation accuracy: 0.7838\n",
            "Confusion Matrix:\n"
          ]
        },
        {
          "output_type": "display_data",
          "data": {
            "text/plain": [
              "<Figure size 1000x600 with 2 Axes>"
            ],
            "image/png": "[encoded data removed]"
          },
          "metadata": {}
        },
        {
          "output_type": "execute_result",
          "data": {
            "text/plain": [
              "(0.9994728946194704, 0.7838462474151563)"
            ]
          },
          "metadata": {},
          "execution_count": 23
        }
      ]
    },
    {
      "cell_type": "code",
      "source": [
        "# Use Random Forest with different values of hyperparameters\n",
        "perform_random_forest(X_train, y_train, X_val, y_val, X_test, y_test, n_estimators=500, max_depth=5)"
      ],
      "metadata": {
        "colab": {
          "base_uri": "https://localhost:8080/",
          "height": 633
        },
        "id": "o_Mdc8dcHcLY",
        "outputId": "1bca0ff5-14bb-40aa-e46a-8e8b68a54714"
      },
      "execution_count": null,
      "outputs": [
        {
          "output_type": "stream",
          "name": "stdout",
          "text": [
            "Training accuracy: 0.7700\n",
            "Validation accuracy: 0.7595\n",
            "Confusion Matrix:\n"
          ]
        },
        {
          "output_type": "display_data",
          "data": {
            "text/plain": [
              "<Figure size 1000x600 with 2 Axes>"
            ],
            "image/png": "[encoded data removed]"
          },
          "metadata": {}
        },
        {
          "output_type": "execute_result",
          "data": {
            "text/plain": [
              "(0.7699793212504561, 0.7595183067753315)"
            ]
          },
          "metadata": {},
          "execution_count": 24
        }
      ]
    },
    {
      "cell_type": "code",
      "source": [
        "perform_random_forest(X_train, y_train, X_val, y_val, X_test, y_test, n_estimators=100, max_depth=10,feature_analysis=True)"
      ],
      "metadata": {
        "colab": {
          "base_uri": "https://localhost:8080/",
          "height": 911
        },
        "id": "whCk5WqKHgdq",
        "outputId": "ca970640-35ac-4c7e-842c-7e8eab41763c"
      },
      "execution_count": null,
      "outputs": [
        {
          "output_type": "stream",
          "name": "stdout",
          "text": [
            "Training accuracy: 0.8196\n",
            "Validation accuracy: 0.7751\n",
            "Feature Importance Ranking:\n",
            "Feature 8: 0.2981\n",
            "Feature 7: 0.1483\n",
            "Feature 1: 0.1350\n",
            "Feature 2: 0.0745\n",
            "Feature 4: 0.0644\n",
            "Feature 12: 0.0619\n",
            "Feature 6: 0.0604\n",
            "Feature 10: 0.0533\n",
            "Feature 15: 0.0273\n",
            "Feature 9: 0.0197\n",
            "Feature 11: 0.0185\n",
            "Feature 14: 0.0157\n",
            "Feature 5: 0.0095\n",
            "Feature 3: 0.0076\n",
            "Feature 13: 0.0060\n",
            "Confusion Matrix:\n"
          ]
        },
        {
          "output_type": "display_data",
          "data": {
            "text/plain": [
              "<Figure size 1000x600 with 2 Axes>"
            ],
            "image/png": "[encoded data removed]"
          },
          "metadata": {}
        },
        {
          "output_type": "execute_result",
          "data": {
            "text/plain": [
              "(0.8196488667234318, 0.7750881887848193)"
            ]
          },
          "metadata": {},
          "execution_count": 25
        }
      ]
    },
    {
      "cell_type": "code",
      "source": [
        "perform_random_forest(X_train, y_train, X_val, y_val, X_test, y_test, n_estimators=50, max_depth=10,feature_analysis=False,max_leaf_nodes=50,min_samples_leaf=5,cm=False)"
      ],
      "metadata": {
        "colab": {
          "base_uri": "https://localhost:8080/"
        },
        "id": "N5fMdHIRHjxw",
        "outputId": "c754a2a6-36da-4400-85ec-9cdc32ff3381"
      },
      "execution_count": null,
      "outputs": [
        {
          "output_type": "stream",
          "name": "stdout",
          "text": [
            "Training accuracy: 0.7840\n",
            "Validation accuracy: 0.7706\n"
          ]
        },
        {
          "output_type": "execute_result",
          "data": {
            "text/plain": [
              "(0.7839678871183554, 0.7705875197664518)"
            ]
          },
          "metadata": {},
          "execution_count": 26
        }
      ]
    },
    {
      "cell_type": "code",
      "source": [
        "perform_random_forest(X_train, y_train, X_val, y_val, X_test, y_test, n_estimators=10, max_depth=10,feature_analysis=False,max_leaf_nodes=10,min_samples_leaf=100,cm=False)"
      ],
      "metadata": {
        "colab": {
          "base_uri": "https://localhost:8080/"
        },
        "id": "gmX5K2wAHnk0",
        "outputId": "317e295a-ac74-4c6f-c628-f7467e083073"
      },
      "execution_count": null,
      "outputs": [
        {
          "output_type": "stream",
          "name": "stdout",
          "text": [
            "Training accuracy: 0.7560\n",
            "Validation accuracy: 0.7509\n"
          ]
        },
        {
          "output_type": "execute_result",
          "data": {
            "text/plain": [
              "(0.7559907553825569, 0.7508818878481937)"
            ]
          },
          "metadata": {},
          "execution_count": 27
        }
      ]
    },
    {
      "cell_type": "code",
      "source": [
        "perform_random_forest(X_train, y_train, X_val, y_val, X_test, y_test, n_estimators=100, max_depth=100,feature_analysis=False,max_leaf_nodes=500,min_samples_leaf=5,cm=False)"
      ],
      "metadata": {
        "colab": {
          "base_uri": "https://localhost:8080/"
        },
        "id": "pO7MoQMUHr_S",
        "outputId": "50d186d7-635c-42ef-8cd4-cab44f8eebf8"
      },
      "execution_count": null,
      "outputs": [
        {
          "output_type": "stream",
          "name": "stdout",
          "text": [
            "Training accuracy: 0.8512\n",
            "Validation accuracy: 0.7774\n"
          ]
        },
        {
          "output_type": "execute_result",
          "data": {
            "text/plain": [
              "(0.8511940964197381, 0.7773993431456028)"
            ]
          },
          "metadata": {},
          "execution_count": 28
        }
      ]
    },
    {
      "cell_type": "code",
      "source": [
        "perform_random_forest(X_train, y_train, X_val, y_val, X_test, y_test, n_estimators=100, max_depth=None,feature_analysis=False,max_leaf_nodes=None,min_samples_leaf=1,cm=False)"
      ],
      "metadata": {
        "colab": {
          "base_uri": "https://localhost:8080/"
        },
        "id": "DBhYbbh8Hurh",
        "outputId": "37a87d74-3b08-4b28-a902-3552bece5c9a"
      },
      "execution_count": null,
      "outputs": [
        {
          "output_type": "stream",
          "name": "stdout",
          "text": [
            "Training accuracy: 0.9995\n",
            "Validation accuracy: 0.7852\n"
          ]
        },
        {
          "output_type": "execute_result",
          "data": {
            "text/plain": [
              "(0.9994728946194704, 0.7851842841503467)"
            ]
          },
          "metadata": {},
          "execution_count": 29
        }
      ]
    },
    {
      "cell_type": "markdown",
      "source": [
        "Final Model:::"
      ],
      "metadata": {
        "id": "JjuhFmwNlshd"
      }
    },
    {
      "cell_type": "code",
      "source": [
        "model = RandomForestClassifier(n_estimators=100, max_depth=100,min_samples_leaf=5,max_leaf_nodes=500)\n",
        "model.fit(X_train,y_train)"
      ],
      "metadata": {
        "colab": {
          "base_uri": "https://localhost:8080/",
          "height": 74
        },
        "id": "NPMgH4L3HxU2",
        "outputId": "c87fc3d4-8979-4865-8575-53bbc3b0fb64"
      },
      "execution_count": null,
      "outputs": [
        {
          "output_type": "execute_result",
          "data": {
            "text/plain": [
              "RandomForestClassifier(max_depth=100, max_leaf_nodes=500, min_samples_leaf=5)"
            ],
            "text/html": [
              "<style>#sk-container-id-1 {color: black;background-color: white;}#sk-container-id-1 pre{padding: 0;}#sk-container-id-1 div.sk-toggleable {background-color: white;}#sk-container-id-1 label.sk-toggleable__label {cursor: pointer;display: block;width: 100%;margin-bottom: 0;padding: 0.3em;box-sizing: border-box;text-align: center;}#sk-container-id-1 label.sk-toggleable__label-arrow:before {content: \"▸\";float: left;margin-right: 0.25em;color: #696969;}#sk-container-id-1 label.sk-toggleable__label-arrow:hover:before {color: black;}#sk-container-id-1 div.sk-estimator:hover label.sk-toggleable__label-arrow:before {color: black;}#sk-container-id-1 div.sk-toggleable__content {max-height: 0;max-width: 0;overflow: hidden;text-align: left;background-color: #f0f8ff;}#sk-container-id-1 div.sk-toggleable__content pre {margin: 0.2em;color: black;border-radius: 0.25em;background-color: #f0f8ff;}#sk-container-id-1 input.sk-toggleable__control:checked~div.sk-toggleable__content {max-height: 200px;max-width: 100%;overflow: auto;}#sk-container-id-1 input.sk-toggleable__control:checked~label.sk-toggleable__label-arrow:before {content: \"▾\";}#sk-container-id-1 div.sk-estimator input.sk-toggleable__control:checked~label.sk-toggleable__label {background-color: #d4ebff;}#sk-container-id-1 div.sk-label input.sk-toggleable__control:checked~label.sk-toggleable__label {background-color: #d4ebff;}#sk-container-id-1 input.sk-hidden--visually {border: 0;clip: rect(1px 1px 1px 1px);clip: rect(1px, 1px, 1px, 1px);height: 1px;margin: -1px;overflow: hidden;padding: 0;position: absolute;width: 1px;}#sk-container-id-1 div.sk-estimator {font-family: monospace;background-color: #f0f8ff;border: 1px dotted black;border-radius: 0.25em;box-sizing: border-box;margin-bottom: 0.5em;}#sk-container-id-1 div.sk-estimator:hover {background-color: #d4ebff;}#sk-container-id-1 div.sk-parallel-item::after {content: \"\";width: 100%;border-bottom: 1px solid gray;flex-grow: 1;}#sk-container-id-1 div.sk-label:hover label.sk-toggleable__label {background-color: #d4ebff;}#sk-container-id-1 div.sk-serial::before {content: \"\";position: absolute;border-left: 1px solid gray;box-sizing: border-box;top: 0;bottom: 0;left: 50%;z-index: 0;}#sk-container-id-1 div.sk-serial {display: flex;flex-direction: column;align-items: center;background-color: white;padding-right: 0.2em;padding-left: 0.2em;position: relative;}#sk-container-id-1 div.sk-item {position: relative;z-index: 1;}#sk-container-id-1 div.sk-parallel {display: flex;align-items: stretch;justify-content: center;background-color: white;position: relative;}#sk-container-id-1 div.sk-item::before, #sk-container-id-1 div.sk-parallel-item::before {content: \"\";position: absolute;border-left: 1px solid gray;box-sizing: border-box;top: 0;bottom: 0;left: 50%;z-index: -1;}#sk-container-id-1 div.sk-parallel-item {display: flex;flex-direction: column;z-index: 1;position: relative;background-color: white;}#sk-container-id-1 div.sk-parallel-item:first-child::after {align-self: flex-end;width: 50%;}#sk-container-id-1 div.sk-parallel-item:last-child::after {align-self: flex-start;width: 50%;}#sk-container-id-1 div.sk-parallel-item:only-child::after {width: 0;}#sk-container-id-1 div.sk-dashed-wrapped {border: 1px dashed gray;margin: 0 0.4em 0.5em 0.4em;box-sizing: border-box;padding-bottom: 0.4em;background-color: white;}#sk-container-id-1 div.sk-label label {font-family: monospace;font-weight: bold;display: inline-block;line-height: 1.2em;}#sk-container-id-1 div.sk-label-container {text-align: center;}#sk-container-id-1 div.sk-container {/* jupyter's `normalize.less` sets `[hidden] { display: none; }` but bootstrap.min.css set `[hidden] { display: none !important; }` so we also need the `!important` here to be able to override the default hidden behavior on the sphinx rendered scikit-learn.org. See: https://github.com/scikit-learn/scikit-learn/issues/21755 */display: inline-block !important;position: relative;}#sk-container-id-1 div.sk-text-repr-fallback {display: none;}</style><div id=\"sk-container-id-1\" class=\"sk-top-container\"><div class=\"sk-text-repr-fallback\"><pre>RandomForestClassifier(max_depth=100, max_leaf_nodes=500, min_samples_leaf=5)</pre><b>In a Jupyter environment, please rerun this cell to show the HTML representation or trust the notebook. <br />On GitHub, the HTML representation is unable to render, please try loading this page with nbviewer.org.</b></div><div class=\"sk-container\" hidden><div class=\"sk-item\"><div class=\"sk-estimator sk-toggleable\"><input class=\"sk-toggleable__control sk-hidden--visually\" id=\"sk-estimator-id-1\" type=\"checkbox\" checked><label for=\"sk-estimator-id-1\" class=\"sk-toggleable__label sk-toggleable__label-arrow\">RandomForestClassifier</label><div class=\"sk-toggleable__content\"><pre>RandomForestClassifier(max_depth=100, max_leaf_nodes=500, min_samples_leaf=5)</pre></div></div></div></div></div>"
            ]
          },
          "metadata": {},
          "execution_count": 34
        }
      ]
    },
    {
      "cell_type": "code",
      "source": [
        "y_pred=model.predict(X_test)"
      ],
      "metadata": {
        "id": "eigQ2JEPkf3O"
      },
      "execution_count": null,
      "outputs": []
    },
    {
      "cell_type": "code",
      "source": [
        "from sklearn.metrics import classification_report\n",
        "\n",
        "print(\"model accuracy:\",metrics.accuracy_score(y_test, y_pred))\n",
        "print(\"model recall:\",metrics.recall_score(y_test, y_pred, zero_division=1))\n",
        "print(\"model precision:\",metrics.precision_score(y_test, y_pred, zero_division=1))\n",
        "print(\"classification report:\",metrics.classification_report(y_test, y_pred, zero_division=1))"
      ],
      "metadata": {
        "colab": {
          "base_uri": "https://localhost:8080/"
        },
        "id": "XRK5EY71kyVY",
        "outputId": "171b1bcf-aede-4c53-e107-23c7c1bc4e84"
      },
      "execution_count": null,
      "outputs": [
        {
          "output_type": "stream",
          "name": "stdout",
          "text": [
            "model accuracy: 0.7813184140111895\n",
            "model recall: 0.8515720204728248\n",
            "model precision: 0.7461029254751228\n",
            "classification report:               precision    recall  f1-score   support\n",
            "\n",
            "           0       0.83      0.71      0.77      4119\n",
            "           1       0.75      0.85      0.80      4103\n",
            "\n",
            "    accuracy                           0.78      8222\n",
            "   macro avg       0.79      0.78      0.78      8222\n",
            "weighted avg       0.79      0.78      0.78      8222\n",
            "\n"
          ]
        }
      ]
    },
    {
      "cell_type": "code",
      "source": [],
      "metadata": {
        "id": "4Ddyy3VRla0s"
      },
      "execution_count": null,
      "outputs": []
    }
  ]
}